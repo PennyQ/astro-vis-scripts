{
 "cells": [
  {
   "cell_type": "markdown",
   "metadata": {},
   "source": [
    "## Apply ipyvolume to display l1448co in virtual reality\n",
    "ipyvolume documentation is on http://ipyvolume.readthedocs.io/en/latest/vr.html"
   ]
  },
  {
   "cell_type": "code",
   "execution_count": 24,
   "metadata": {
    "collapsed": false
   },
   "outputs": [
    {
     "data": {
      "application/vnd.jupyter.widget-view+json": {
       "model_id": "a35ee478b2d143e0bd6b48336f59fcb5"
      }
     },
     "metadata": {},
     "output_type": "display_data"
    }
   ],
   "source": [
    "import ipyvolume\n",
    "from astropy.io import fits\n",
    "co_data = fits.open('l1448_13co.fits')\n",
    "\n",
    "# aqa2 = ipyvolume.datasets.aquariusA2.fetch()\n",
    "# level – level(s) for the where the opacity in the volume peaks, maximum sequence of length 3\n",
    "ipyvolume.quickvolshow(co_data[0].data.T, stero=True, data_min=1, level=[0.2, 0.3, 0.5], lighting=True,  width=512, height=256, stereo=True, opacity=0.06)"
   ]
  },
  {
   "cell_type": "code",
   "execution_count": null,
   "metadata": {
    "collapsed": true
   },
   "outputs": [],
   "source": []
  }
 ],
 "metadata": {
  "anaconda-cloud": {},
  "kernelspec": {
   "display_name": "Python [default]",
   "language": "python",
   "name": "python2"
  },
  "language_info": {
   "codemirror_mode": {
    "name": "ipython",
    "version": 2
   },
   "file_extension": ".py",
   "mimetype": "text/x-python",
   "name": "python",
   "nbconvert_exporter": "python",
   "pygments_lexer": "ipython2",
   "version": "2.7.12"
  }
 },
 "nbformat": 4,
 "nbformat_minor": 2
}
