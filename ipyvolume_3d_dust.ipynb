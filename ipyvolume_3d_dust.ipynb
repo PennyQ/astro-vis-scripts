{
 "cells": [
  {
   "cell_type": "markdown",
   "metadata": {
    "deletable": true,
    "editable": true
   },
   "source": [
    "## Apply ipyvolume to display 3D dust map in virtual reality\n",
    "#### centered on the Aquila South cloud, cut out distance < 1kpc data, voxel value is magnitudes of AV converted from Bayestar reddenings,  as following the similar procedures of [plotting_the_dust_map](http://dustmaps.readthedocs.io/en/latest/examples.html#plotting-the-dust-maps)\n",
    "- ipyvolume documentation is on http://ipyvolume.readthedocs.io/en/latest/vr.html\n",
    "- get 3D dust map data on http://dustmaps.readthedocs.io/en/latest/examples.html#getting-started\n"
   ]
  },
  {
   "cell_type": "code",
   "execution_count": 76,
   "metadata": {
    "collapsed": false,
    "deletable": true,
    "editable": true
   },
   "outputs": [
    {
     "name": "stdout",
     "output_type": "stream",
     "text": [
      "File exists. Not overwriting.\n"
     ]
    }
   ],
   "source": [
    "from dustmaps.config import config\n",
    "config['data_dir'] = '/Users/penny/Works/bayestar_dustmap'\n",
    "\n",
    "import dustmaps.bayestar\n",
    "dustmaps.bayestar.fetch()\n"
   ]
  },
  {
   "cell_type": "code",
   "execution_count": 68,
   "metadata": {
    "collapsed": false,
    "deletable": true,
    "editable": true,
    "scrolled": true
   },
   "outputs": [
    {
     "name": "stdout",
     "output_type": "stream",
     "text": [
      "(200, 200, 31)\n"
     ]
    }
   ],
   "source": [
    "from __future__ import print_function\n",
    "from astropy.coordinates import SkyCoord\n",
    "from dustmaps.bayestar import BayestarQuery\n",
    "import numpy as np\n",
    "import astropy.units as units\n",
    "\n",
    "def get_av_cube():\n",
    "    # coords = SkyCoord(180., 0., unit='deg', frame='galactic')\n",
    "    bayestar = BayestarQuery(max_samples=1)\n",
    "\n",
    "    # set up a grid of coordinates to plot, centered on the Aquila South cloud\n",
    "    l0, b0 = (37., -16.)\n",
    "    l = np.arange(l0 - 5., l0 + 5., 0.05)\n",
    "    b = np.arange(b0 - 5., b0 + 5., 0.05)\n",
    "    l, b = np.meshgrid(l, b)\n",
    "    coords = SkyCoord(l*units.deg, b*units.deg, frame='galactic')\n",
    "    \n",
    "    # TODO: why in matplotlib the value is squared?\n",
    "#     np.sqrt(Av)[::,::-1]\n",
    "\n",
    "    # used the coefficient from Table 6 of Schlafly & Finkbeiner (2011) to convert SFD and Bayestar reddenings to magnitudes of AV.\n",
    "    av_cube = 2.742*bayestar(coords, mode='median')\n",
    "    \n",
    "    print(av_cube.shape)\n",
    "    return av_cube\n",
    "\n",
    "av_cube = get_av_cube()\n"
   ]
  },
  {
   "cell_type": "code",
   "execution_count": 69,
   "metadata": {
    "collapsed": false
   },
   "outputs": [
    {
     "name": "stdout",
     "output_type": "stream",
     "text": [
      "(200, 200, 31)\n"
     ]
    }
   ],
   "source": [
    "# sample cube using distances as z index\n",
    "\n",
    "def resample_cube(cube):\n",
    "    distances = np.array(bayestar.distances)\n",
    "    unit = bayestar.distances.unit\n",
    "    d_shape = int(distances[-1])\n",
    "    sam_ebv_cube = np.zeros((cube.shape[0], cube.shape[1], d_shape+1))\n",
    "    print(sam_ebv_cube.shape, cube.shape[2])\n",
    "    for item in range(cube.shape[2]):\n",
    "        sam_ebv_cube[:, :, int(distances[item])] += cube[:, :, item]\n",
    "\n",
    "    # cut distance < 1kpc part\n",
    "    sam_ebv_cube[:, :, 0] = 0\n",
    "    print(sam_ebv_cube.shape, np.nanmax(sam_ebv_cube), np.nanmin(sam_ebv_cube))\n",
    "    print(np.nanmax(sam_ebv_cube[:, :, 63]))\n",
    "    return sam_ebv_cube\n",
    "print(av_cube.shape)\n",
    "av_cube = resample_cube(av_cube)\n"
   ]
  },
  {
   "cell_type": "code",
   "execution_count": 71,
   "metadata": {
    "collapsed": false,
    "deletable": true,
    "editable": true
   },
   "outputs": [
    {
     "data": {
      "application/vnd.jupyter.widget-view+json": {
       "model_id": "31ce3d63a7d9405da6c7ce7e7f76019f"
      }
     },
     "metadata": {},
     "output_type": "display_data"
    }
   ],
   "source": [
    "from IPython.core.interactiveshell import InteractiveShell\n",
    "InteractiveShell.ast_node_interactivity = \"all\"\n",
    "\n",
    "import ipyvolume\n",
    "from astropy.io import fits\n",
    "# co_data = fits.open('l1448_13co.fits')\n",
    "\n",
    "# aqa2 = ipyvolume.datasets.aquariusA2.fetch()\n",
    "# level – level(s) for the where the opacity in the volume peaks, maximum sequence of length 3\n",
    "ipyvolume.quickvolshow(av_cube.T, stero=True, data_min=None, level=[0.22, 0.25, 0.2], lighting=True,  width=512, height=256, stereo=True, opacity=0.06)"
   ]
  },
  {
   "cell_type": "code",
   "execution_count": 75,
   "metadata": {
    "collapsed": false
   },
   "outputs": [
    {
     "name": "stdout",
     "output_type": "stream",
     "text": [
      "(200, 200, 31)\n",
      "(200, 200, 31)\n",
      "(200, 200, 31)\n"
     ]
    },
    {
     "data": {
      "application/vnd.jupyter.widget-view+json": {
       "model_id": "35ad2c351b5b4ae491284c6612936432"
      }
     },
     "metadata": {},
     "output_type": "display_data"
    }
   ],
   "source": [
    "# If wee extract slice[i] from slice[i-1] for the av_cube\n",
    "\n",
    "def sort_cube(np_array):\n",
    "    d = np_array.shape[2]\n",
    "    sort_array = np.zeros(np_array.shape)\n",
    "    for i in list(reversed(range(d))):\n",
    "        if d>0:\n",
    "            sort_array[:, :, i] = np_array[:, :, i] - np_array[:, :, i-1]\n",
    "    print(sort_array.shape)\n",
    "    return sort_array\n",
    "av_cube = get_av_cube()\n",
    "sort_av_cube = sort_cube(av_cube)\n",
    "print(av_cube.shape)\n",
    "sort_av_cube = resample_cube(sort_av_cube)\n",
    "\n",
    "ipyvolume.quickvolshow(sort_av_cube.T, stero=True, data_min=None, level=[0.0, 0.0, 0.0], lighting=True,  width=512, height=256, stereo=True, opacity=0.06)"
   ]
  }
 ],
 "metadata": {
  "anaconda-cloud": {},
  "kernelspec": {
   "display_name": "Python [default]",
   "language": "python",
   "name": "python2"
  },
  "language_info": {
   "codemirror_mode": {
    "name": "ipython",
    "version": 2
   },
   "file_extension": ".py",
   "mimetype": "text/x-python",
   "name": "python",
   "nbconvert_exporter": "python",
   "pygments_lexer": "ipython2",
   "version": "2.7.12"
  }
 },
 "nbformat": 4,
 "nbformat_minor": 2
}
