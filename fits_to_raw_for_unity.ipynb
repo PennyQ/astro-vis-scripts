{
 "cells": [
  {
   "cell_type": "markdown",
   "metadata": {
    "deletable": true,
    "editable": true
   },
   "source": [
    "## Preparation for building VR model in Unity for astronomy data\n",
    "### Convert fits file to binary raw file\n",
    "method is from \"3D visualization of astronomy data cubes using immersive displays\"\n",
    "\n",
    "by Gilles Ferrand, Jayanne English, Pourang Irani\n",
    "\n",
    "ref: https://arxiv.org/abs/1607.08874"
   ]
  },
  {
   "cell_type": "markdown",
   "metadata": {},
   "source": [
    "### Try l1448_13co data first"
   ]
  },
  {
   "cell_type": "code",
   "execution_count": 21,
   "metadata": {
    "collapsed": true,
    "deletable": true,
    "editable": true
   },
   "outputs": [],
   "source": [
    "from astropy.io import fits\n",
    "\n",
    "hdulist = fits.open('l1448_13co.fits')\n",
    "cube = hdulist[0].data\n",
    "# And to write the cube to disk as 8-bit integers in a binary file (as expected by my loader on Unity's side):\n",
    "cube_8bit = ((cube-cube.min())/(cube.max()-cube.min())*255).astype('uint8')\n",
    "cube_8bit"
   ]
  },
  {
   "cell_type": "code",
   "execution_count": 32,
   "metadata": {
    "collapsed": false,
    "deletable": true,
    "editable": true
   },
   "outputs": [
    {
     "data": {
      "text/plain": [
       "(64, 128, 128)"
      ]
     },
     "execution_count": 32,
     "metadata": {},
     "output_type": "execute_result"
    }
   ],
   "source": [
    "# cube size needs to be the same on width, height, and depth - NOT necessary\n",
    "\n",
    "# unity has non-power of two\n",
    "\n",
    "import numpy as np\n",
    "# npad is a tuple of (n_before, n_after) for each dimension\n",
    "b = np.pad(cube_8bit, pad_width=((0, 11), (0,23), (0,23)), mode='constant', constant_values=0)\n",
    "b.transpose().tofile('l1448co.raw')\n",
    "b.shape"
   ]
  },
  {
   "cell_type": "markdown",
   "metadata": {
    "collapsed": true,
    "deletable": true,
    "editable": true
   },
   "source": [
    "### Convert 3D dust map\n",
    "centered on the Aquila South cloud, cut out distance < 1kpc data, voxel value is magnitudes of AV converted from Bayestar reddenings, as following the similar procedures of plotting_the_dust_map"
   ]
  },
  {
   "cell_type": "code",
   "execution_count": 1,
   "metadata": {
    "collapsed": false
   },
   "outputs": [
    {
     "name": "stdout",
     "output_type": "stream",
     "text": [
      "File exists. Not overwriting.\n"
     ]
    }
   ],
   "source": [
    "from dustmaps.config import config\n",
    "config['data_dir'] = '/Users/penny/Works/bayestar_dustmap'\n",
    "\n",
    "import dustmaps.bayestar\n",
    "dustmaps.bayestar.fetch()"
   ]
  },
  {
   "cell_type": "code",
   "execution_count": 5,
   "metadata": {
    "collapsed": false
   },
   "outputs": [
    {
     "name": "stdout",
     "output_type": "stream",
     "text": [
      "(200, 200, 31)\n"
     ]
    }
   ],
   "source": [
    "from __future__ import print_function\n",
    "from astropy.coordinates import SkyCoord\n",
    "from dustmaps.bayestar import BayestarQuery\n",
    "import numpy as np\n",
    "import astropy.units as units\n",
    "\n",
    "bayestar = BayestarQuery(max_samples=1)\n",
    "\n",
    "def get_ebv_cube():\n",
    "    # set up a grid of coordinates to plot, centered on the Aquila South cloud\n",
    "    l0, b0 = (37., -16.)\n",
    "    l = np.arange(l0 - 5., l0 + 5., 0.05)\n",
    "    b = np.arange(b0 - 5., b0 + 5., 0.05)\n",
    "    l, b = np.meshgrid(l, b)\n",
    "    coords = SkyCoord(l*units.deg, b*units.deg, frame='galactic')\n",
    "    \n",
    "    # TODO: why in matplotlib the value is squared?\n",
    "#     np.sqrt(Av)[::,::-1]\n",
    "\n",
    "    ebv_cube = bayestar(coords, mode='median')\n",
    "    \n",
    "    print(ebv_cube.shape)\n",
    "    return ebv_cube\n",
    "\n",
    "ebv_cube = get_ebv_cube()"
   ]
  },
  {
   "cell_type": "code",
   "execution_count": 6,
   "metadata": {
    "collapsed": false
   },
   "outputs": [
    {
     "data": {
      "text/plain": [
       "0.77891999"
      ]
     },
     "execution_count": 6,
     "metadata": {},
     "output_type": "execute_result"
    }
   ],
   "source": [
    "np.nanmax(ebv_cube)"
   ]
  },
  {
   "cell_type": "code",
   "execution_count": 14,
   "metadata": {
    "collapsed": false
   },
   "outputs": [
    {
     "data": {
      "text/plain": [
       "(256, 256, 64)"
      ]
     },
     "execution_count": 14,
     "metadata": {},
     "output_type": "execute_result"
    }
   ],
   "source": [
    "# And to write the cube to disk as 8-bit integers in a binary file (as expected by my loader on Unity's side):\n",
    "ebv_cube_8bit = ((ebv_cube-ebv_cube.min())/(ebv_cube.max()-ebv_cube.min())*255).astype('uint8')\n",
    "ebv_cube_8bit\n",
    "import numpy as np\n",
    "# npad is a tuple of (n_before, n_after) for each dimension\n",
    "ebv = np.pad(ebv_cube_8bit, pad_width=((0, 56), (0,56), (0,33)), mode='constant', constant_values=0)\n",
    "ebv.transpose().tofile('dustmap.raw')\n",
    "ebv.shape"
   ]
  },
  {
   "cell_type": "code",
   "execution_count": null,
   "metadata": {
    "collapsed": true
   },
   "outputs": [],
   "source": []
  }
 ],
 "metadata": {
  "anaconda-cloud": {},
  "kernelspec": {
   "display_name": "Python [default]",
   "language": "python",
   "name": "python2"
  },
  "language_info": {
   "codemirror_mode": {
    "name": "ipython",
    "version": 2
   },
   "file_extension": ".py",
   "mimetype": "text/x-python",
   "name": "python",
   "nbconvert_exporter": "python",
   "pygments_lexer": "ipython2",
   "version": "2.7.12"
  }
 },
 "nbformat": 4,
 "nbformat_minor": 2
}
