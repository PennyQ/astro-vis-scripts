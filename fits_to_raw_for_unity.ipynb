{
 "cells": [
  {
   "cell_type": "markdown",
   "metadata": {},
   "source": [
    "## Convert fits file to binary raw file\n",
    "3D visualization of astronomy data cubes using immersive displays\n",
    "by Gilles Ferrand, Jayanne English, Pourang Irani\n",
    "\n",
    "ref: https://arxiv.org/abs/1607.08874"
   ]
  },
  {
   "cell_type": "code",
   "execution_count": 21,
   "metadata": {
    "collapsed": true
   },
   "outputs": [],
   "source": [
    "from astropy.io import fits\n",
    "\n",
    "hdulist = fits.open('l1448_13co.fits')\n",
    "cube = hdulist[0].data\n",
    "# And to write the cube to disk as 8-bit integers in a binary file (as expected by my loader on Unity's side):\n",
    "cube_8bit = ((cube-cube.min())/(cube.max()-cube.min())*255).astype('uint8')\n"
   ]
  },
  {
   "cell_type": "code",
   "execution_count": 26,
   "metadata": {
    "collapsed": false
   },
   "outputs": [
    {
     "data": {
      "text/plain": [
       "array([[[44, 44, 51, ..., 40, 69, 79],\n",
       "        [32, 46, 39, ..., 44, 60, 65],\n",
       "        [46, 47, 38, ..., 41, 44, 47],\n",
       "        ..., \n",
       "        [50, 31, 38, ..., 41, 31, 23],\n",
       "        [30, 22, 40, ..., 40, 27, 32],\n",
       "        [49, 29, 23, ..., 42, 50, 32]],\n",
       "\n",
       "       [[45, 38, 42, ..., 36, 53, 54],\n",
       "        [38, 28, 39, ..., 44, 52, 61],\n",
       "        [42, 33, 41, ..., 54, 69, 76],\n",
       "        ..., \n",
       "        [37, 42, 33, ..., 35, 37, 47],\n",
       "        [36, 29, 30, ..., 26, 30, 30],\n",
       "        [50, 32, 43, ..., 35, 39, 54]],\n",
       "\n",
       "       [[29, 45, 41, ..., 57, 42, 57],\n",
       "        [38, 35, 28, ..., 54, 74, 72],\n",
       "        [43, 46, 27, ..., 60, 70, 84],\n",
       "        ..., \n",
       "        [32, 30, 35, ..., 32, 36, 25],\n",
       "        [38, 28, 24, ..., 40, 43, 47],\n",
       "        [36, 31, 36, ..., 31, 42, 27]],\n",
       "\n",
       "       ..., \n",
       "       [[66, 50, 46, ..., 36, 29, 47],\n",
       "        [53, 49, 26, ..., 37, 32, 45],\n",
       "        [54, 61, 55, ..., 40, 35, 30],\n",
       "        ..., \n",
       "        [43, 64, 59, ..., 38, 32, 43],\n",
       "        [56, 64, 45, ..., 44, 36, 46],\n",
       "        [83, 64, 59, ..., 40, 40, 44]],\n",
       "\n",
       "       [[40, 44, 52, ..., 45, 47, 51],\n",
       "        [53, 60, 54, ..., 26, 44, 53],\n",
       "        [67, 54, 57, ..., 36, 42, 45],\n",
       "        ..., \n",
       "        [63, 61, 59, ..., 44, 47, 38],\n",
       "        [85, 81, 66, ..., 41, 49, 33],\n",
       "        [74, 58, 75, ..., 46, 33, 18]],\n",
       "\n",
       "       [[42, 46, 38, ..., 40, 30, 45],\n",
       "        [41, 46, 52, ..., 24, 48, 22],\n",
       "        [50, 55, 54, ..., 34, 44, 29],\n",
       "        ..., \n",
       "        [57, 50, 51, ..., 56, 43, 44],\n",
       "        [52, 54, 48, ..., 52, 46, 49],\n",
       "        [59, 65, 53, ..., 38, 29, 33]]], dtype=uint8)"
      ]
     },
     "execution_count": 26,
     "metadata": {},
     "output_type": "execute_result"
    }
   ],
   "source": [
    "cube_8bit"
   ]
  },
  {
   "cell_type": "code",
   "execution_count": 32,
   "metadata": {
    "collapsed": false
   },
   "outputs": [
    {
     "data": {
      "text/plain": [
       "(64, 128, 128)"
      ]
     },
     "execution_count": 32,
     "metadata": {},
     "output_type": "execute_result"
    }
   ],
   "source": [
    "# cube size needs to be the same on width, height, and depth - not necessary\n",
    "\n",
    "# unity has non-power of two\n",
    "\n",
    "import numpy as np\n",
    "# npad is a tuple of (n_before, n_after) for each dimension\n",
    "b = np.pad(cube_8bit, pad_width=((0, 11), (0,23), (0,23)), mode='constant', constant_values=0)\n",
    "b.transpose().tofile('l1448co.raw')\n",
    "b.shape"
   ]
  },
  {
   "cell_type": "code",
   "execution_count": null,
   "metadata": {
    "collapsed": true
   },
   "outputs": [],
   "source": []
  }
 ],
 "metadata": {
  "anaconda-cloud": {},
  "kernelspec": {
   "display_name": "Python [default]",
   "language": "python",
   "name": "python2"
  },
  "language_info": {
   "codemirror_mode": {
    "name": "ipython",
    "version": 2
   },
   "file_extension": ".py",
   "mimetype": "text/x-python",
   "name": "python",
   "nbconvert_exporter": "python",
   "pygments_lexer": "ipython2",
   "version": "2.7.12"
  }
 },
 "nbformat": 4,
 "nbformat_minor": 2
}
